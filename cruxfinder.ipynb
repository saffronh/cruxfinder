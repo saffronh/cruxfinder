{
 "cells": [
  {
   "cell_type": "markdown",
   "metadata": {},
   "source": [
    "# Cruxfinder\n"
   ]
  },
  {
   "cell_type": "code",
   "execution_count": 1,
   "metadata": {},
   "outputs": [],
   "source": [
    "# Add enclosing directory to path\n",
    "import os\n",
    "import sys\n",
    "module_path = os.path.abspath(os.path.join('..'))\n",
    "if module_path not in sys.path:\n",
    "    sys.path.append(module_path)"
   ]
  },
  {
   "cell_type": "code",
   "execution_count": 2,
   "metadata": {},
   "outputs": [],
   "source": []
  },
  {
   "cell_type": "code",
   "execution_count": 3,
   "metadata": {},
   "outputs": [],
   "source": [
    "from langchain.chains.summarize import load_summarize_chain\n",
    "from langchain.text_splitter import CharacterTextSplitter\n",
    "from langchain import OpenAI, PromptTemplate, LLMChain\n",
    "from langchain.chains.mapreduce import MapReduceChain\n",
    "from langchain.embeddings import OpenAIEmbeddings\n",
    "from langchain.docstore.document import Document\n",
    "from langchain.chains import LLMChain\n",
    "from langchain.llms import OpenAI\n",
    "import matplotlib.pyplot as plt\n",
    "from typing import List\n",
    "import pandas as pd\n",
    "import numpy as np\n",
    "from langchain.vectorstores.utils import maximal_marginal_relevance\n",
    "import matplotlib.pyplot as plt\n",
    "from bertopic import BERTopic\n",
    "from bertopic.vectorizers import OnlineCountVectorizer\n",
    "from sklearn.feature_extraction.text import CountVectorizer\n",
    "from umap import UMAP\n",
    "from hdbscan import HDBSCAN\n",
    "from langchain.chains.question_answering import load_qa_chain\n",
    "from bertopic.representation import LangChain\n",
    "import pandas as pd\n",
    "import nltk\n",
    "import pickle\n",
    "from path import Path"
   ]
  },
  {
   "cell_type": "code",
   "execution_count": 28,
   "metadata": {},
   "outputs": [],
   "source": [
    "import re"
   ]
  },
  {
   "cell_type": "markdown",
   "metadata": {},
   "source": [
    "# 1. Extract Long Form Arguments <a class=\"anchor\" id=\"1\"></a>"
   ]
  },
  {
   "cell_type": "code",
   "execution_count": 75,
   "metadata": {},
   "outputs": [],
   "source": [
    "#data is from: https://www.dropbox.com/s/9o92tl86yy07tqi/alignment-scrape-clean-2022-11-12.zip?dl=0\n",
    "import json\n",
    "\n",
    "PATH = \"/Users/saffron/projects/cip/cruxfinder/data/lesswrong.jsonl\"\n",
    "KEYS = ['source', 'comments', 'omega_karma', 'url', 'id', 'tags', 'authors', 'title', 'score', 'date_published', 'text', 'votes']\n",
    "\n",
    "# Get data\n",
    "data = []\n",
    "for line in open(PATH, \"r\"):\n",
    "    data.append(json.loads(line))"
   ]
  },
  {
   "cell_type": "code",
   "execution_count": 62,
   "metadata": {},
   "outputs": [],
   "source": [
    "REPLACE_PAIRS = (\n",
    "    (\"\\n\", \" \"),\n",
    "    (\"\\u200b\", \"\"),\n",
    "    (\"*\", \"\"),\n",
    "    (\"#\", \"\"),\n",
    "    (\"  \", \" \"),\n",
    ")"
   ]
  },
  {
   "cell_type": "code",
   "execution_count": 96,
   "metadata": {},
   "outputs": [],
   "source": [
    "for post in data:\n",
    "    for replace_pair in REPLACE_PAIRS:\n",
    "        post['text'] = post['text'].replace(*replace_pair)"
   ]
  },
  {
   "cell_type": "code",
   "execution_count": 100,
   "metadata": {},
   "outputs": [],
   "source": [
    "df = pd.DataFrame.from_dict(data)"
   ]
  },
  {
   "cell_type": "code",
   "execution_count": 184,
   "metadata": {},
   "outputs": [],
   "source": [
    "def _token_count(chars: int) -> int:\n",
    "    return round(chars / 6 * 1.4)  # Rough estimate, 6 chars per word, 1.4 tokens per word.\n",
    "\n",
    "def _price_emb(chars: int) -> float:\n",
    "    openai_emb_price_per_token = 0.0004 / 1000\n",
    "    return round(openai_emb_price_per_token * _token_count(chars), 3)"
   ]
  },
  {
   "cell_type": "markdown",
   "metadata": {},
   "source": [
    "Let's just get AI timelines arguments for now!"
   ]
  },
  {
   "cell_type": "code",
   "execution_count": 201,
   "metadata": {
    "scrolled": true
   },
   "outputs": [
    {
     "name": "stdout",
     "output_type": "stream",
     "text": [
      "85\n"
     ]
    }
   ],
   "source": [
    "timelines = df[df['tags'].apply(lambda x: 'AI Timelines' in str(x))]\n",
    "print(len(timelines))"
   ]
  },
  {
   "cell_type": "code",
   "execution_count": 202,
   "metadata": {},
   "outputs": [],
   "source": [
    "timelines['tokens'] = timelines['text'].apply(lambda x: _token_count(len(str(x))))"
   ]
  },
  {
   "cell_type": "code",
   "execution_count": 253,
   "metadata": {},
   "outputs": [],
   "source": [
    "timelines = timelines[timelines['tokens'] < 3500]"
   ]
  },
  {
   "cell_type": "code",
   "execution_count": 255,
   "metadata": {},
   "outputs": [
    {
     "data": {
      "text/plain": [
       "(array([ 7., 13.,  6.,  3.,  4.,  3.,  1.,  2.,  2.,  7.]),\n",
       " array([ 147. ,  455.3,  763.6, 1071.9, 1380.2, 1688.5, 1996.8, 2305.1,\n",
       "        2613.4, 2921.7, 3230. ]),\n",
       " <BarContainer object of 10 artists>)"
      ]
     },
     "execution_count": 255,
     "metadata": {},
     "output_type": "execute_result"
    },
    {
     "data": {
      "image/png": "[encoded data removed]",
      "text/plain": [
       "<Figure size 640x480 with 1 Axes>"
      ]
     },
     "metadata": {},
     "output_type": "display_data"
    }
   ],
   "source": [
    "plt.hist(timelines[\"tokens\"])"
   ]
  },
  {
   "cell_type": "code",
   "execution_count": 256,
   "metadata": {},
   "outputs": [
    {
     "data": {
      "text/plain": [
       "48"
      ]
     },
     "execution_count": 256,
     "metadata": {},
     "output_type": "execute_result"
    }
   ],
   "source": [
    "len(timelines)"
   ]
  },
  {
   "cell_type": "markdown",
   "metadata": {},
   "source": [
    "# Prompt for bullet-point summaries\n",
    "\n",
    "best thing is probably to summarize each post into a couple of bullets each. Also makes it easier to plug in the shorter open ended question data into this process."
   ]
  },
  {
   "cell_type": "code",
   "execution_count": 327,
   "metadata": {},
   "outputs": [],
   "source": [
    "# summarize each into main 5-10 points. then compare them with each other and identify cruxes.\n",
    "main_points_template = \"\"\"\n",
    "You are an AI assistant trained to summarize blog posts into their main reasons/points in 5-10 bullet points. Feel free to ignore irrelevant context.\n",
    "\n",
    "This is the blog post:\n",
    "{post}\n",
    "\n",
    "This is your summary:\"\"\""
   ]
  },
  {
   "cell_type": "code",
   "execution_count": 328,
   "metadata": {},
   "outputs": [
    {
     "data": {
      "text/plain": [
       "'\\nYou are an AI assistant trained to summarize blog posts into their main reasons/points in 5-10 bullet points. Feel free to ignore irrelevant context.\\n\\nThis is the blog post:\\ntest\\n\\nThis is your summary:'"
      ]
     },
     "execution_count": 328,
     "metadata": {},
     "output_type": "execute_result"
    }
   ],
   "source": [
    "main_points_prompt = PromptTemplate(\n",
    "    template=main_points_template,\n",
    "    input_variables=[\"post\"],\n",
    ")\n",
    "\n",
    "main_points_prompt.format(post=\"test\")"
   ]
  },
  {
   "cell_type": "code",
   "execution_count": 329,
   "metadata": {},
   "outputs": [],
   "source": [
    "main_points_chain = LLMChain(\n",
    "    llm=OpenAI(temperature=0.1, presence_penalty=0.3, verbose=True),\n",
    "    prompt=main_points_prompt,\n",
    "    verbose=True,\n",
    ")"
   ]
  },
  {
   "cell_type": "code",
   "execution_count": 330,
   "metadata": {},
   "outputs": [],
   "source": [
    "timelines = timelines.reset_index(drop=True)"
   ]
  },
  {
   "cell_type": "code",
   "execution_count": null,
   "metadata": {
    "scrolled": false
   },
   "outputs": [],
   "source": [
    "for i in range(len(timelines)):\n",
    "    timelines.loc[i, 'bullets'] = main_points_chain.predict(post=timelines['text'].iloc[i])"
   ]
  },
  {
   "cell_type": "markdown",
   "metadata": {},
   "source": [
    "# Prompt for cruxes"
   ]
  },
  {
   "cell_type": "code",
   "execution_count": 332,
   "metadata": {},
   "outputs": [],
   "source": [
    "# First, simple crux template\n",
    "crux_template1 = \"\"\"\n",
    "You are an AI assistant trained to find the crux or cruxes between two arguments (i.e. the statement(s) on which the argument(s) turn, which essentially determine whether the two parties agree or disagree.\n",
    "\n",
    "This is the first argument:\n",
    "{arg1}\n",
    "\n",
    "This is the second argument:\n",
    "{arg2}\n",
    "\n",
    "This is the crux/cruxes:\"\"\"\n",
    "\n",
    "crux_prompt1 = PromptTemplate(\n",
    "    template=crux_template1,\n",
    "    input_variables=[\"arg1\", \"arg2\"],\n",
    ")\n",
    "\n",
    "crux_chain1 = LLMChain(\n",
    "    llm=OpenAI(temperature=0.1, presence_penalty=0.3, verbose=True),\n",
    "    prompt=crux_prompt1,\n",
    "    verbose=True,\n",
    ")\n",
    "\n",
    "# Second one that I think is better\n",
    "crux_template = \"\"\"\n",
    "You are an AI assistant trained to find the crux or cruxes between two arguments (i.e. the identifies the core belief or assumption, for each party, that underlies their position on the issue.) You identify the crux or cruxes for each party, and whether they are the same, so that the parties can examine them and look for resolutions.\n",
    "\n",
    "You not only suggest the crux or cruxes, you also suggest how to move forward after identifying the cruxes.\n",
    "\n",
    "This is the first argument:\n",
    "{arg1}\n",
    "\n",
    "This is the second argument:\n",
    "{arg2}\n",
    "\n",
    "This is the crux/cruxes of each argument, and any suggestions on how to move forward in the argument:\"\"\"\n",
    "\n",
    "crux_prompt = PromptTemplate(\n",
    "    template=crux_template,\n",
    "    input_variables=[\"arg1\", \"arg2\"],\n",
    ")\n",
    "\n",
    "crux_chain = LLMChain(\n",
    "    llm=OpenAI(temperature=0.1, presence_penalty=0.3, verbose=True),\n",
    "    prompt=crux_prompt,\n",
    "    verbose=True,\n",
    ")"
   ]
  },
  {
   "cell_type": "markdown",
   "metadata": {},
   "source": [
    "found 2 arguments that might be interesting to compare:"
   ]
  },
  {
   "cell_type": "code",
   "execution_count": 322,
   "metadata": {},
   "outputs": [
    {
     "name": "stdout",
     "output_type": "stream",
     "text": [
      "\n",
      "\n",
      "\u001b[1m> Entering new LLMChain chain...\u001b[0m\n",
      "Prompt after formatting:\n",
      "\u001b[32;1m\u001b[1;3m\n",
      "You are an AI assistant trained to find the crux or cruxes between two arguments (i.e. the identifies the core belief or assumption, for each party, that underlies their position on the issue.) You identify the crux or cruxes for each party, and whether they are the same, so that the parties can examine them and look for resolutions.\n",
      "\n",
      "You not only suggest the crux or cruxes, you also suggest how to move forward after identifying the cruxes.\n",
      "\n",
      "This is the first argument:\n",
      "\n",
      "- This post is about timelines for AGI, not takeoff speeds.\n",
      "- Timelines are usually not strategically relevant to alignment research decisions.\n",
      "- It would take ~18 months to take the current best idea, implement it, and deploy it.\n",
      "- Long-term research should focus on building better foundational understanding, running experiments, and searching for better ideas.\n",
      "- Strategic decisions outside of object-level research may depend on timelines of ~5 years or less.\n",
      "- Timelines are only decision-relevant if they're very short (e.g. 18 months or 5 years).\n",
      "\n",
      "This is the second argument:\n",
      "\n",
      "- AGI development timeline is essential for calibrating an end-to-end AGI safety research agenda\n",
      "- Probability of AGI being benign-by-default is low, so AGI safety control problem should be solved prior to AGI development\n",
      "- Estimation approach proposed: number of breakthroughs, iterative relation between breakthroughs, and time to next breakthrough\n",
      "- Examples of iterative acceleration, deceleration, and stability provided\n",
      "- AGI timeline modulates (re)search strategy for AGI safety control problem: search heuristics, raw search speed, and time allotted must be considered\n",
      "\n",
      "This is the crux/cruxes of each argument, and any suggestions on how to move forward in the argument:\u001b[0m\n",
      "\n",
      "\u001b[1m> Finished chain.\u001b[0m\n",
      "\n",
      "\n",
      "The crux of the first argument is that timelines are only decision-relevant if they are very short (e.g. 18 months or 5 years). The crux of the second argument is that the AGI development timeline is essential for calibrating an end-to-end AGI safety research agenda. These cruxes are different, so to move forward in the argument, the parties should discuss the implications of the different timelines and how they affect the AGI safety research agenda. They should also consider the potential benefits and risks of different timelines and how they might affect the research strategy.\n"
     ]
    }
   ],
   "source": [
    "print(crux_chain.predict(arg1=timelines['bullets'][10], arg2=timelines['bullets'][36]))"
   ]
  },
  {
   "cell_type": "markdown",
   "metadata": {},
   "source": [
    "next: try on claude / conjecture????"
   ]
  },
  {
   "cell_type": "code",
   "execution_count": null,
   "metadata": {},
   "outputs": [],
   "source": []
  }
 ],
 "metadata": {
  "kernelspec": {
   "display_name": "Python 3 (ipykernel)",
   "language": "python",
   "name": "python3"
  },
  "language_info": {
   "codemirror_mode": {
    "name": "ipython",
    "version": 3
   },
   "file_extension": ".py",
   "mimetype": "text/x-python",
   "name": "python",
   "nbconvert_exporter": "python",
   "pygments_lexer": "ipython3",
   "version": "3.10.2"
  },
  "vscode": {
   "interpreter": {
    "hash": "e6b5283304b1b7926ef31fec3172516b6eba623670b6999824d7b68d4ea2007a"
   }
  }
 },
 "nbformat": 4,
 "nbformat_minor": 2
}
